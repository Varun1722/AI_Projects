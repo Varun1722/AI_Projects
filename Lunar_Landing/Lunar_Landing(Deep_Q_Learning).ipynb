{
  "cells": [
    {
      "cell_type": "markdown",
      "metadata": {
        "id": "LbZcI9ZXHl3a"
      },
      "source": [
        "# Deep Q-Learning for Lunar Landing"
      ]
    },
    {
      "cell_type": "markdown",
      "metadata": {
        "id": "E8yPRjteXgPb"
      },
      "source": [
        "## Part 0 - Installing the required packages and importing the libraries"
      ]
    },
    {
      "cell_type": "markdown",
      "metadata": {
        "id": "slEm5teGWjWU"
      },
      "source": [
        "### Installing Gymnasium"
      ]
    },
    {
      "cell_type": "markdown",
      "source": [
        "Gymnasium is a project that provides an API for all single agent reinforcement learning environments, and includes implementations of common environments: cartpole, pendulum, mountain-car, mujoco, atari, and more.\n"
      ],
      "metadata": {
        "id": "r2sS5frnp_Lg"
      }
    },
    {
      "cell_type": "code",
      "execution_count": 7,
      "metadata": {
        "id": "dbnq3XpoKa_7",
        "colab": {
          "base_uri": "https://localhost:8080/"
        },
        "outputId": "e40e8de1-4523-4b61-c25a-48994630ee81"
      },
      "outputs": [
        {
          "output_type": "stream",
          "name": "stdout",
          "text": [
            "Collecting gymnasium\n",
            "  Downloading gymnasium-0.29.1-py3-none-any.whl (953 kB)\n",
            "\u001b[2K     \u001b[90m━━━━━━━━━━━━━━━━━━━━━━━━━━━━━━━━━━━━━━━━\u001b[0m \u001b[32m953.9/953.9 kB\u001b[0m \u001b[31m6.5 MB/s\u001b[0m eta \u001b[36m0:00:00\u001b[0m\n",
            "\u001b[?25hRequirement already satisfied: numpy>=1.21.0 in /usr/local/lib/python3.10/dist-packages (from gymnasium) (1.25.2)\n",
            "Requirement already satisfied: cloudpickle>=1.2.0 in /usr/local/lib/python3.10/dist-packages (from gymnasium) (2.2.1)\n",
            "Requirement already satisfied: typing-extensions>=4.3.0 in /usr/local/lib/python3.10/dist-packages (from gymnasium) (4.11.0)\n",
            "Collecting farama-notifications>=0.0.1 (from gymnasium)\n",
            "  Downloading Farama_Notifications-0.0.4-py3-none-any.whl (2.5 kB)\n",
            "Installing collected packages: farama-notifications, gymnasium\n",
            "Successfully installed farama-notifications-0.0.4 gymnasium-0.29.1\n",
            "Requirement already satisfied: gymnasium[accept-rom-license,atari] in /usr/local/lib/python3.10/dist-packages (0.29.1)\n",
            "Requirement already satisfied: numpy>=1.21.0 in /usr/local/lib/python3.10/dist-packages (from gymnasium[accept-rom-license,atari]) (1.25.2)\n",
            "Requirement already satisfied: cloudpickle>=1.2.0 in /usr/local/lib/python3.10/dist-packages (from gymnasium[accept-rom-license,atari]) (2.2.1)\n",
            "Requirement already satisfied: typing-extensions>=4.3.0 in /usr/local/lib/python3.10/dist-packages (from gymnasium[accept-rom-license,atari]) (4.11.0)\n",
            "Requirement already satisfied: farama-notifications>=0.0.1 in /usr/local/lib/python3.10/dist-packages (from gymnasium[accept-rom-license,atari]) (0.0.4)\n",
            "Collecting autorom[accept-rom-license]~=0.4.2 (from gymnasium[accept-rom-license,atari])\n",
            "  Downloading AutoROM-0.4.2-py3-none-any.whl (16 kB)\n",
            "Collecting shimmy[atari]<1.0,>=0.1.0 (from gymnasium[accept-rom-license,atari])\n",
            "  Downloading Shimmy-0.2.1-py3-none-any.whl (25 kB)\n",
            "Requirement already satisfied: click in /usr/local/lib/python3.10/dist-packages (from autorom[accept-rom-license]~=0.4.2->gymnasium[accept-rom-license,atari]) (8.1.7)\n",
            "Requirement already satisfied: requests in /usr/local/lib/python3.10/dist-packages (from autorom[accept-rom-license]~=0.4.2->gymnasium[accept-rom-license,atari]) (2.31.0)\n",
            "Requirement already satisfied: tqdm in /usr/local/lib/python3.10/dist-packages (from autorom[accept-rom-license]~=0.4.2->gymnasium[accept-rom-license,atari]) (4.66.4)\n",
            "Collecting AutoROM.accept-rom-license (from autorom[accept-rom-license]~=0.4.2->gymnasium[accept-rom-license,atari])\n",
            "  Downloading AutoROM.accept-rom-license-0.6.1.tar.gz (434 kB)\n",
            "\u001b[2K     \u001b[90m━━━━━━━━━━━━━━━━━━━━━━━━━━━━━━━━━━━━━━━━\u001b[0m \u001b[32m434.7/434.7 kB\u001b[0m \u001b[31m11.0 MB/s\u001b[0m eta \u001b[36m0:00:00\u001b[0m\n",
            "\u001b[?25h  Installing build dependencies ... \u001b[?25l\u001b[?25hdone\n",
            "  Getting requirements to build wheel ... \u001b[?25l\u001b[?25hdone\n",
            "  Preparing metadata (pyproject.toml) ... \u001b[?25l\u001b[?25hdone\n",
            "Collecting ale-py~=0.8.1 (from shimmy[atari]<1.0,>=0.1.0->gymnasium[accept-rom-license,atari])\n",
            "  Downloading ale_py-0.8.1-cp310-cp310-manylinux_2_17_x86_64.manylinux2014_x86_64.whl (1.7 MB)\n",
            "\u001b[2K     \u001b[90m━━━━━━━━━━━━━━━━━━━━━━━━━━━━━━━━━━━━━━━━\u001b[0m \u001b[32m1.7/1.7 MB\u001b[0m \u001b[31m45.1 MB/s\u001b[0m eta \u001b[36m0:00:00\u001b[0m\n",
            "\u001b[?25hRequirement already satisfied: importlib-resources in /usr/local/lib/python3.10/dist-packages (from ale-py~=0.8.1->shimmy[atari]<1.0,>=0.1.0->gymnasium[accept-rom-license,atari]) (6.4.0)\n",
            "Requirement already satisfied: charset-normalizer<4,>=2 in /usr/local/lib/python3.10/dist-packages (from requests->autorom[accept-rom-license]~=0.4.2->gymnasium[accept-rom-license,atari]) (3.3.2)\n",
            "Requirement already satisfied: idna<4,>=2.5 in /usr/local/lib/python3.10/dist-packages (from requests->autorom[accept-rom-license]~=0.4.2->gymnasium[accept-rom-license,atari]) (3.7)\n",
            "Requirement already satisfied: urllib3<3,>=1.21.1 in /usr/local/lib/python3.10/dist-packages (from requests->autorom[accept-rom-license]~=0.4.2->gymnasium[accept-rom-license,atari]) (2.0.7)\n",
            "Requirement already satisfied: certifi>=2017.4.17 in /usr/local/lib/python3.10/dist-packages (from requests->autorom[accept-rom-license]~=0.4.2->gymnasium[accept-rom-license,atari]) (2024.2.2)\n",
            "Building wheels for collected packages: AutoROM.accept-rom-license\n",
            "  Building wheel for AutoROM.accept-rom-license (pyproject.toml) ... \u001b[?25l\u001b[?25hdone\n",
            "  Created wheel for AutoROM.accept-rom-license: filename=AutoROM.accept_rom_license-0.6.1-py3-none-any.whl size=446659 sha256=7e09037c6ed93c980d7e7b57ecbefd808c5a3dc83fbc8f30a5303868b6efbddb\n",
            "  Stored in directory: /root/.cache/pip/wheels/6b/1b/ef/a43ff1a2f1736d5711faa1ba4c1f61be1131b8899e6a057811\n",
            "Successfully built AutoROM.accept-rom-license\n",
            "Installing collected packages: ale-py, shimmy, AutoROM.accept-rom-license, autorom\n",
            "Successfully installed AutoROM.accept-rom-license-0.6.1 ale-py-0.8.1 autorom-0.4.2 shimmy-0.2.1\n",
            "Reading package lists... Done\n",
            "Building dependency tree... Done\n",
            "Reading state information... Done\n",
            "The following additional packages will be installed:\n",
            "  swig4.0\n",
            "Suggested packages:\n",
            "  swig-doc swig-examples swig4.0-examples swig4.0-doc\n",
            "The following NEW packages will be installed:\n",
            "  swig swig4.0\n",
            "0 upgraded, 2 newly installed, 0 to remove and 45 not upgraded.\n",
            "Need to get 1,116 kB of archives.\n",
            "After this operation, 5,542 kB of additional disk space will be used.\n",
            "Get:1 http://archive.ubuntu.com/ubuntu jammy/universe amd64 swig4.0 amd64 4.0.2-1ubuntu1 [1,110 kB]\n",
            "Get:2 http://archive.ubuntu.com/ubuntu jammy/universe amd64 swig all 4.0.2-1ubuntu1 [5,632 B]\n",
            "Fetched 1,116 kB in 0s (4,036 kB/s)\n",
            "Selecting previously unselected package swig4.0.\n",
            "(Reading database ... 121918 files and directories currently installed.)\n",
            "Preparing to unpack .../swig4.0_4.0.2-1ubuntu1_amd64.deb ...\n",
            "Unpacking swig4.0 (4.0.2-1ubuntu1) ...\n",
            "Selecting previously unselected package swig.\n",
            "Preparing to unpack .../swig_4.0.2-1ubuntu1_all.deb ...\n",
            "Unpacking swig (4.0.2-1ubuntu1) ...\n",
            "Setting up swig4.0 (4.0.2-1ubuntu1) ...\n",
            "Setting up swig (4.0.2-1ubuntu1) ...\n",
            "Processing triggers for man-db (2.10.2-1) ...\n",
            "Requirement already satisfied: gymnasium[box2d] in /usr/local/lib/python3.10/dist-packages (0.29.1)\n",
            "Requirement already satisfied: numpy>=1.21.0 in /usr/local/lib/python3.10/dist-packages (from gymnasium[box2d]) (1.25.2)\n",
            "Requirement already satisfied: cloudpickle>=1.2.0 in /usr/local/lib/python3.10/dist-packages (from gymnasium[box2d]) (2.2.1)\n",
            "Requirement already satisfied: typing-extensions>=4.3.0 in /usr/local/lib/python3.10/dist-packages (from gymnasium[box2d]) (4.11.0)\n",
            "Requirement already satisfied: farama-notifications>=0.0.1 in /usr/local/lib/python3.10/dist-packages (from gymnasium[box2d]) (0.0.4)\n",
            "Collecting box2d-py==2.3.5 (from gymnasium[box2d])\n",
            "  Downloading box2d-py-2.3.5.tar.gz (374 kB)\n",
            "\u001b[2K     \u001b[90m━━━━━━━━━━━━━━━━━━━━━━━━━━━━━━━━━━━━━━━━\u001b[0m \u001b[32m374.4/374.4 kB\u001b[0m \u001b[31m7.0 MB/s\u001b[0m eta \u001b[36m0:00:00\u001b[0m\n",
            "\u001b[?25h  Preparing metadata (setup.py) ... \u001b[?25l\u001b[?25hdone\n",
            "Requirement already satisfied: pygame>=2.1.3 in /usr/local/lib/python3.10/dist-packages (from gymnasium[box2d]) (2.5.2)\n",
            "Collecting swig==4.* (from gymnasium[box2d])\n",
            "  Downloading swig-4.2.1-py2.py3-none-manylinux_2_5_x86_64.manylinux1_x86_64.whl (1.9 MB)\n",
            "\u001b[2K     \u001b[90m━━━━━━━━━━━━━━━━━━━━━━━━━━━━━━━━━━━━━━━━\u001b[0m \u001b[32m1.9/1.9 MB\u001b[0m \u001b[31m49.1 MB/s\u001b[0m eta \u001b[36m0:00:00\u001b[0m\n",
            "\u001b[?25hBuilding wheels for collected packages: box2d-py\n",
            "  Building wheel for box2d-py (setup.py) ... \u001b[?25l\u001b[?25hdone\n",
            "  Created wheel for box2d-py: filename=box2d_py-2.3.5-cp310-cp310-linux_x86_64.whl size=2349119 sha256=12b12d17aa48fbd033ea269b0d8dccfa7fd15e18635afd20b0e368bf376d2200\n",
            "  Stored in directory: /root/.cache/pip/wheels/db/8f/6a/eaaadf056fba10a98d986f6dce954e6201ba3126926fc5ad9e\n",
            "Successfully built box2d-py\n",
            "Installing collected packages: swig, box2d-py\n",
            "Successfully installed box2d-py-2.3.5 swig-4.2.1\n"
          ]
        }
      ],
      "source": [
        "!pip install gymnasium\n",
        "!pip install \"gymnasium[atari, accept-rom-license]\"\n",
        "# SWIG is a software development tool that connects programs written in C and C++ with a variety of high-level programming languages.\n",
        "!apt-get install -y swig\n",
        "!pip install gymnasium[box2d]"
      ]
    },
    {
      "cell_type": "markdown",
      "metadata": {
        "id": "brqiMN3UW9T9"
      },
      "source": [
        "### Importing the libraries"
      ]
    },
    {
      "cell_type": "code",
      "execution_count": 8,
      "metadata": {
        "id": "mZaKXP_aMl9O"
      },
      "outputs": [],
      "source": [
        "import os\n",
        "import random\n",
        "import numpy as np\n",
        "import torch\n",
        "import torch.nn as nn\n",
        "import torch.optim as optim\n",
        "import torch.nn.functional as F\n",
        "import torch.autograd as autograd\n",
        "from torch.autograd import Variable\n",
        "from collections import deque, namedtuple"
      ]
    },
    {
      "cell_type": "markdown",
      "metadata": {
        "id": "EzlDKXvkXzGI"
      },
      "source": [
        "## Part 1 - Building the AI"
      ]
    },
    {
      "cell_type": "markdown",
      "metadata": {
        "id": "UtG6Zc83YYy3"
      },
      "source": [
        "### Creating the architecture of the Neural Network"
      ]
    },
    {
      "cell_type": "markdown",
      "source": [
        "First we are gonna create a class which will act as the brain for our AI. By experimental analysis (Hit and trial ) , We have found that we need 2 hidden layers for this Lunar Landing Mission."
      ],
      "metadata": {
        "id": "ELWiu9tvl4Ez"
      }
    },
    {
      "cell_type": "code",
      "source": [
        "class Network(nn.Module):\n",
        "    def __init__(self, state_size,action_size,seed=42):\n",
        "        super(Network,self).__init__()\n",
        "        self.seed=torch.manual_seed(seed)\n",
        "        # Now we built the architecture of our model (the input layer and the first fully connected layer)\n",
        "        self.fc1=nn.Linear(state_size,64) #This 64 is an experimental number obtained by hit and trial method for Lunar landing problem\n",
        "        self.fc2=nn.Linear(64,64)\n",
        "        self.fc3=nn.Linear(64,action_size)\n",
        "\n",
        "    def forward(self,state):\n",
        "        x = self.fc1(state) #taking state as input for first layer\n",
        "        x = F.relu(x) # Relu activation function\n",
        "\n",
        "        x = self.fc2(x)\n",
        "        x = F.relu(x)\n",
        "        return self.fc3(x)"
      ],
      "metadata": {
        "id": "naOn3BZxlvPC"
      },
      "execution_count": 9,
      "outputs": []
    },
    {
      "cell_type": "markdown",
      "metadata": {
        "id": "UxVrBnFWZKb1"
      },
      "source": [
        "## Part 2 - Training the AI"
      ]
    },
    {
      "cell_type": "markdown",
      "metadata": {
        "id": "T364fz9qZb2j"
      },
      "source": [
        "### Setting up the environment"
      ]
    },
    {
      "cell_type": "markdown",
      "source": [
        "Now as we have made the architecture for our model. We now have to setup the environment to train our AI. We import the Lunar Lander env from the Gymnasium playground."
      ],
      "metadata": {
        "id": "PayDNm7iw9mc"
      }
    },
    {
      "cell_type": "code",
      "source": [
        "import gymnasium as gym\n",
        "env = gym.make('LunarLander-v2')\n",
        "state_space = env.observation_space.shape\n",
        "state_size = env.observation_space.shape[0]\n",
        "action_size= env.action_space.n\n",
        "print('State_space:',state_space)\n",
        "print('State_size:',state_size)\n",
        "print('action_space:',action_size)"
      ],
      "metadata": {
        "colab": {
          "base_uri": "https://localhost:8080/"
        },
        "id": "6DcxSf3Nw8DX",
        "outputId": "376a657a-6636-4d90-a8f2-2208d91dcdd1"
      },
      "execution_count": 10,
      "outputs": [
        {
          "output_type": "stream",
          "name": "stdout",
          "text": [
            "State_space: (8,)\n",
            "State_size: 8\n",
            "action_space: 4\n"
          ]
        }
      ]
    },
    {
      "cell_type": "markdown",
      "metadata": {
        "id": "c_dZmOIvZgj-"
      },
      "source": [
        "### Initializing the hyperparameters"
      ]
    },
    {
      "cell_type": "code",
      "source": [
        "learning_rate = 5e-4 # experimental\n",
        "minibatch_size = 100\n",
        "discount_factor = 0.99\n",
        "replay_buffer_size=int(1e5)\n",
        "interpolation_parameter=1e-3"
      ],
      "metadata": {
        "id": "WBKAuwA9zQWT"
      },
      "execution_count": 26,
      "outputs": []
    },
    {
      "cell_type": "markdown",
      "source": [
        "The env here is partially Observable.We don't have all the info to make a decision. Therefore we need to have a memory. Here the replay buffer is the memory needed to store the agents action-observation so as to make an optimal decision."
      ],
      "metadata": {
        "id": "BlijGXTp21Xm"
      }
    },
    {
      "cell_type": "markdown",
      "metadata": {
        "id": "8hD_Vs-bYnip"
      },
      "source": [
        "### Implementing Experience Replay"
      ]
    },
    {
      "cell_type": "code",
      "source": [
        "class ReplayMemory(object):\n",
        "    def __init__(self,capacity):\n",
        "        self.device=torch.device(\"cpu\")\n",
        "        self.capacity=capacity\n",
        "        self.memory = [] #this will store the experiences (state,action,next state,)\n",
        "\n",
        "    def push(self,event): #event=experience\n",
        "        self.memory.append(event)\n",
        "        if(len(self.memory)> self.capacity):\n",
        "            del self.memory[0] #delete the oldest experience\n",
        "\n",
        "    #We will now have to sample the experiences randomly to select the batch for training\n",
        "    def sample(self,batch_size):\n",
        "        experiences = random.sample(self.memory,k=batch_size)\n",
        "        #now extract the different values from experiences by making a stack of all experiences\n",
        "        states = torch.from_numpy(np.vstack([e[0] for e in experiences if e is not None])).float().to(self.device)\n",
        "        actions = torch.from_numpy(np.vstack([e[1] for e in experiences if e is not None])).long().to(self.device) #actions can be 0,1,2,3 so long is used\n",
        "        rewards = torch.from_numpy(np.vstack([e[2] for e in experiences if e is not None])).float().to(self.device)\n",
        "        next_states = torch.from_numpy(np.vstack([e[3] for e in experiences if e is not None])).float().to(self.device)\n",
        "        dones = torch.from_numpy(np.vstack([e[4] for e in experiences if e is not None]).astype(np.uint8)).float().to(self.device) #for boolean we define it as uint8\n",
        "        return states, next_states, actions,rewards,dones\n"
      ],
      "metadata": {
        "id": "1cg1feOD4pb3"
      },
      "execution_count": 27,
      "outputs": []
    },
    {
      "cell_type": "markdown",
      "metadata": {
        "id": "JmEkbFbUY6Jt"
      },
      "source": [
        "### Implementing the DQN class"
      ]
    },
    {
      "cell_type": "code",
      "source": [
        "class Agent():\n",
        "    def __init__(self,state_size,action_size):\n",
        "        self.device=torch.device(\"cpu\")\n",
        "        self.state_size=state_size\n",
        "        self.action_size=action_size\n",
        "        self.local_qnetwork = Network(state_size,action_size).to(self.device)\n",
        "        self.target_qnetwork = Network(state_size,action_size).to(self.device)\n",
        "        self.optim = optim.Adam(self.local_qnetwork.parameters(),lr=learning_rate) #update the parameters\n",
        "        self.memory=ReplayMemory(replay_buffer_size)\n",
        "        self.t_step=0 #time step counter means the moments in which we will update our network parameters\n",
        "\n",
        "    #this method will store experiences and decide when to learn from them\n",
        "    def step(self,states,actions,rewards,next_states,done):\n",
        "        self.memory.push((states,actions,rewards,next_states,done))\n",
        "        self.t_step = (self.t_step+1)%4 #we want to learn every 4 steps\n",
        "        if self.t_step == 0:\n",
        "            if len(self.memory.memory) > 100:\n",
        "                experiences = self.memory.sample(100)\n",
        "                self.learn(experiences,discount_factor)\n",
        "\n",
        "    #this method will select an action for the given state using e-greedy policy\n",
        "    def act(self,state,epsilon=0.):\n",
        "        state = torch.from_numpy(state).float().unsqueeze(0).to(self.device) #adding an extra dimention to store which batch the state belongs to and in the new tensor first index will be that\n",
        "        #now we have to forward the states through local_qnetwork so as to find best actions for the state\n",
        "        # we need to turn on the evaluation mode for local_qnetwork\n",
        "        self.local_qnetwork.eval()\n",
        "        #this puts the network out of training mode and into the infererence mode i.e. we are ready to make predictions now\n",
        "        with torch.no_grad(): #checks whethers gradient computation is disabled or not\n",
        "            action_values = self.local_qnetwork(state)\n",
        "        self.local_qnetwork.train() #back to training mode\n",
        "\n",
        "        #now we will randomly generate a number and if it is greater than epsilon then we'll select action with highest Q value else randomly select an action\n",
        "        choice = random.random()\n",
        "        if choice>epsilon:\n",
        "            action = np.argmax(action_values.cpu().data.numpy())\n",
        "            return action\n",
        "        else:\n",
        "            action = random.randint(0,3)\n",
        "            return action\n",
        "\n",
        "    #implement the learn method which will update q values from sampled experiences\n",
        "    def learn(self,experiences,discount_factor):\n",
        "        states,next_states,actions,rewards,dones = experiences\n",
        "        #next step is to get the maximum predicted Q values for the next states from the target network\n",
        "        next_q_targets = self.target_qnetwork(next_states).detach().max(1)[0].unsqueeze(1)\n",
        "        #we calculated the q values for next states from the target network but then detach it (remove it from computation graph so gradient won't be computed during backprop)\n",
        "        #then we take max(1) i.e. max along 1st dim(action) and it contains two values (Q, action corresponding to it) so we only need Q values\n",
        "        #then we add the batch at dim 1\n",
        "        q_targets = rewards + (discount_factor*next_q_targets*(1-dones))\n",
        "        q_expected = self.local_qnetwork(states).gather(1,actions) # gather all the q values for all actions\n",
        "        loss = F.mse_loss(q_expected,q_targets)\n",
        "        self.optim.zero_grad() #resetting the gradients\n",
        "        loss.backward()\n",
        "        #single optimisation step to update the parameters of the model\n",
        "        self.optim.step()\n",
        "        #update target network param with that of local param\n",
        "        self.soft_update(self.local_qnetwork,self.target_qnetwork,interpolation_parameter)\n",
        "\n",
        "    def soft_update(self,local_model,target_model,interpolation_parameter):\n",
        "        for local_params, target_params in zip(local_model.parameters(), target_model.parameters()):\n",
        "            #here we will use the copy func to update it\n",
        "            target_params.data.copy_(interpolation_parameter*local_params.data + (1-interpolation_parameter)*target_params.data)\n",
        ""
      ],
      "metadata": {
        "id": "T6sLhfgUZv9z"
      },
      "execution_count": 37,
      "outputs": []
    },
    {
      "cell_type": "markdown",
      "metadata": {
        "id": "o1tZElccZmf6"
      },
      "source": [
        "### Initializing the DQN agent"
      ]
    },
    {
      "cell_type": "code",
      "source": [
        "agent = Agent(state_size,action_size)"
      ],
      "metadata": {
        "id": "j9IfEeBMebJO"
      },
      "execution_count": 38,
      "outputs": []
    },
    {
      "cell_type": "markdown",
      "metadata": {
        "id": "E8v0PtUfaVQp"
      },
      "source": [
        "### Training the DQN agent"
      ]
    },
    {
      "cell_type": "code",
      "source": [
        "#First we initialize certain parameters needed for training our AI model\n",
        "number_episodes = 2000\n",
        "max_timestep_per_episode = 1000\n",
        "epsilon_start = 1.0\n",
        "epsilon_end = 0.01\n",
        "epsilon_decay = 0.995\n",
        "epsilon = epsilon_start\n",
        "scores_on_100_values = deque(maxlen = 100)\n",
        "\n",
        "for episodes in range(1,number_episodes+1):\n",
        "    state, _ = env.reset() #reset the env returns initial state and initial observations\n",
        "    score = 0\n",
        "    for t in range(max_timestep_per_episode):\n",
        "        action = agent.act(state,epsilon)\n",
        "        next_state, reward, done, _, _ = env.step(action)\n",
        "        agent.step(state,action,reward, next_state,done) #perform the training\n",
        "        state = next_state\n",
        "        score+=reward\n",
        "        if done:\n",
        "            break\n",
        "\n",
        "    scores_on_100_values.append(score)\n",
        "    epsilon = max(epsilon_end,epsilon_decay*epsilon)\n",
        "    print(\"\\rEpisode:{}\\tAverage Score:{:.2f}\".format(episodes,np.mean(scores_on_100_values)),end=\"\")   #\\r = for dynamic printing\n",
        "    if episodes % 100 ==0:\n",
        "        print(\"\\rEpisode:{}\\tAverage Score:{:.2f}\".format(episodes,np.mean(scores_on_100_values)))\n",
        "    if np.mean(scores_on_100_values)>=200.0:\n",
        "        print(\"\\nEnvironment solved in {} episodes!\\tAverage Score:{:.2f}\".format(episodes-100,np.mean(scores_on_100_values)))\n",
        "        torch.save(agent.local_qnetwork.state_dict(),\"checkpoint.pth\")\n",
        "        break"
      ],
      "metadata": {
        "colab": {
          "base_uri": "https://localhost:8080/"
        },
        "id": "kJrIaoeMe0xl",
        "outputId": "b222974b-21c8-44eb-db0c-f812f4241603"
      },
      "execution_count": 39,
      "outputs": [
        {
          "output_type": "stream",
          "name": "stdout",
          "text": [
            "Episode:100\tAverage Score:-167.16\n",
            "Episode:200\tAverage Score:-127.29\n",
            "Episode:300\tAverage Score:-41.14\n",
            "Episode:400\tAverage Score:6.12\n",
            "Episode:500\tAverage Score:102.94\n",
            "Episode:600\tAverage Score:141.63\n",
            "Episode:700\tAverage Score:149.69\n",
            "Episode:800\tAverage Score:197.38\n",
            "Episode:806\tAverage Score:201.95\n",
            "Environment solved in 706 episodes!\tAverage Score:201.95\n"
          ]
        }
      ]
    },
    {
      "cell_type": "markdown",
      "metadata": {
        "id": "O8CNwdOTcCoP"
      },
      "source": [
        "## Part 3 - Visualizing the results"
      ]
    },
    {
      "cell_type": "code",
      "execution_count": 48,
      "metadata": {
        "id": "cb9nVvU2Okhk",
        "colab": {
          "base_uri": "https://localhost:8080/",
          "height": 459
        },
        "outputId": "537f4501-f8ea-4496-fa17-9cd73197d3b4"
      },
      "outputs": [
        {
          "output_type": "stream",
          "name": "stderr",
          "text": [
            "WARNING:imageio_ffmpeg:IMAGEIO FFMPEG_WRITER WARNING: input image is not divisible by macro_block_size=16, resizing from (600, 400) to (608, 400) to ensure video compatibility with most codecs and players. To prevent resizing, make your input image divisible by the macro_block_size or set the macro_block_size to 1 (risking incompatibility).\n"
          ]
        },
        {
          "output_type": "display_data",
          "data": {
            "text/plain": [
              "<IPython.core.display.HTML object>"
            ],
            "text/html": [
              "<video alt=\"test\" autoplay\n",
              "                loop controls style=\"height: 400px;\">\n",
              "                <source src=\"data:video/mp4;base64,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\" type=\"video/mp4\" />\n",
              "             </video>"
            ]
          },
          "metadata": {}
        }
      ],
      "source": [
        "import glob\n",
        "import io\n",
        "import base64\n",
        "import imageio\n",
        "from IPython.display import HTML, display\n",
        "from gym.wrappers.monitoring.video_recorder import VideoRecorder\n",
        "\n",
        "def show_video_of_model(agent, env_name):\n",
        "    env = gym.make(env_name, render_mode='rgb_array')\n",
        "    state, _ = env.reset()\n",
        "    done = False\n",
        "    frames = []\n",
        "    while not done:\n",
        "        frame = env.render()\n",
        "        frames.append(frame)\n",
        "        action = agent.act(state)\n",
        "        state, reward, done, _, _ = env.step(action.item())\n",
        "    env.close()\n",
        "    imageio.mimsave('video.mp4', frames, fps=30)\n",
        "\n",
        "show_video_of_model(agent, 'LunarLander-v2')\n",
        "\n",
        "def show_video():\n",
        "    mp4list = glob.glob('*.mp4')\n",
        "    if len(mp4list) > 0:\n",
        "        mp4 = mp4list[0]\n",
        "        video = io.open(mp4, 'r+b').read()\n",
        "        encoded = base64.b64encode(video)\n",
        "        display(HTML(data='''<video alt=\"test\" autoplay\n",
        "                loop controls style=\"height: 400px;\">\n",
        "                <source src=\"data:video/mp4;base64,{0}\" type=\"video/mp4\" />\n",
        "             </video>'''.format(encoded.decode('ascii'))))\n",
        "    else:\n",
        "        print(\"Could not find video\")\n",
        "\n",
        "show_video()"
      ]
    }
  ],
  "metadata": {
    "colab": {
      "provenance": []
    },
    "kernelspec": {
      "display_name": "Python 3",
      "name": "python3"
    },
    "language_info": {
      "name": "python"
    }
  },
  "nbformat": 4,
  "nbformat_minor": 0
}